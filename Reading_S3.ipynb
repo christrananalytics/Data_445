{
 "cells": [
  {
   "cell_type": "code",
   "execution_count": 1,
   "id": "3987b2bb",
   "metadata": {},
   "outputs": [],
   "source": [
    "import boto3 \n",
    "import pandas as pd \n",
    "\n",
    "# Defining the s3 bucket \n",
    "s3 = boto3.resource('s3')\n",
    "bucket_name = 'christran-data445-bucket'\n",
    "bucket = s3.Bucket(bucket_name)\n",
    "\n",
    "# Defining the file in the bucket \n",
    "file_key = '(name of file in bucket)'\n",
    "\n",
    "bucket_object = bucket.Object(file_key)\n",
    "file_object = bucket_object.get()\n",
    "file_content_stream = file_object.get('Body')\n",
    "\n",
    "# Read CSV file\n",
    "name_of_dataframe = pd.read_csv(file_content_stream)"
   ]
  }
 ],
 "metadata": {
  "kernelspec": {
   "display_name": "conda_python3",
   "language": "python",
   "name": "conda_python3"
  },
  "language_info": {
   "codemirror_mode": {
    "name": "ipython",
    "version": 3
   },
   "file_extension": ".py",
   "mimetype": "text/x-python",
   "name": "python",
   "nbconvert_exporter": "python",
   "pygments_lexer": "ipython3",
   "version": "3.8.12"
  }
 },
 "nbformat": 4,
 "nbformat_minor": 5
}
