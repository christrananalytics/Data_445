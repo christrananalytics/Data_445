{
 "cells": [
  {
   "cell_type": "code",
   "execution_count": 11,
   "id": "b57ea4cd",
   "metadata": {},
   "outputs": [
    {
     "data": {
      "text/html": [
       "<div>\n",
       "<style scoped>\n",
       "    .dataframe tbody tr th:only-of-type {\n",
       "        vertical-align: middle;\n",
       "    }\n",
       "\n",
       "    .dataframe tbody tr th {\n",
       "        vertical-align: top;\n",
       "    }\n",
       "\n",
       "    .dataframe thead th {\n",
       "        text-align: right;\n",
       "    }\n",
       "</style>\n",
       "<table border=\"1\" class=\"dataframe\">\n",
       "  <thead>\n",
       "    <tr style=\"text-align: right;\">\n",
       "      <th></th>\n",
       "      <th>car_ID</th>\n",
       "      <th>symboling</th>\n",
       "      <th>CarName</th>\n",
       "      <th>fueltype</th>\n",
       "      <th>aspiration</th>\n",
       "      <th>doornumber</th>\n",
       "      <th>carbody</th>\n",
       "      <th>drivewheel</th>\n",
       "      <th>enginelocation</th>\n",
       "      <th>wheelbase</th>\n",
       "      <th>...</th>\n",
       "      <th>enginesize</th>\n",
       "      <th>fuelsystem</th>\n",
       "      <th>boreratio</th>\n",
       "      <th>stroke</th>\n",
       "      <th>compressionratio</th>\n",
       "      <th>horsepower</th>\n",
       "      <th>peakrpm</th>\n",
       "      <th>citympg</th>\n",
       "      <th>highwaympg</th>\n",
       "      <th>price</th>\n",
       "    </tr>\n",
       "  </thead>\n",
       "  <tbody>\n",
       "    <tr>\n",
       "      <th>0</th>\n",
       "      <td>1</td>\n",
       "      <td>3</td>\n",
       "      <td>alfa-romero giulia</td>\n",
       "      <td>gas</td>\n",
       "      <td>std</td>\n",
       "      <td>two</td>\n",
       "      <td>convertible</td>\n",
       "      <td>rwd</td>\n",
       "      <td>front</td>\n",
       "      <td>88.6</td>\n",
       "      <td>...</td>\n",
       "      <td>130</td>\n",
       "      <td>mpfi</td>\n",
       "      <td>3.47</td>\n",
       "      <td>2.68</td>\n",
       "      <td>9.0</td>\n",
       "      <td>111</td>\n",
       "      <td>5000</td>\n",
       "      <td>21</td>\n",
       "      <td>27</td>\n",
       "      <td>13495.0</td>\n",
       "    </tr>\n",
       "    <tr>\n",
       "      <th>1</th>\n",
       "      <td>2</td>\n",
       "      <td>3</td>\n",
       "      <td>alfa-romero stelvio</td>\n",
       "      <td>gas</td>\n",
       "      <td>std</td>\n",
       "      <td>two</td>\n",
       "      <td>convertible</td>\n",
       "      <td>rwd</td>\n",
       "      <td>front</td>\n",
       "      <td>88.6</td>\n",
       "      <td>...</td>\n",
       "      <td>130</td>\n",
       "      <td>mpfi</td>\n",
       "      <td>3.47</td>\n",
       "      <td>2.68</td>\n",
       "      <td>9.0</td>\n",
       "      <td>111</td>\n",
       "      <td>5000</td>\n",
       "      <td>21</td>\n",
       "      <td>27</td>\n",
       "      <td>16500.0</td>\n",
       "    </tr>\n",
       "    <tr>\n",
       "      <th>2</th>\n",
       "      <td>3</td>\n",
       "      <td>1</td>\n",
       "      <td>alfa-romero Quadrifoglio</td>\n",
       "      <td>gas</td>\n",
       "      <td>std</td>\n",
       "      <td>two</td>\n",
       "      <td>hatchback</td>\n",
       "      <td>rwd</td>\n",
       "      <td>front</td>\n",
       "      <td>94.5</td>\n",
       "      <td>...</td>\n",
       "      <td>152</td>\n",
       "      <td>mpfi</td>\n",
       "      <td>2.68</td>\n",
       "      <td>3.47</td>\n",
       "      <td>9.0</td>\n",
       "      <td>154</td>\n",
       "      <td>5000</td>\n",
       "      <td>19</td>\n",
       "      <td>26</td>\n",
       "      <td>16500.0</td>\n",
       "    </tr>\n",
       "    <tr>\n",
       "      <th>3</th>\n",
       "      <td>4</td>\n",
       "      <td>2</td>\n",
       "      <td>audi 100 ls</td>\n",
       "      <td>gas</td>\n",
       "      <td>std</td>\n",
       "      <td>four</td>\n",
       "      <td>sedan</td>\n",
       "      <td>fwd</td>\n",
       "      <td>front</td>\n",
       "      <td>99.8</td>\n",
       "      <td>...</td>\n",
       "      <td>109</td>\n",
       "      <td>mpfi</td>\n",
       "      <td>3.19</td>\n",
       "      <td>3.40</td>\n",
       "      <td>10.0</td>\n",
       "      <td>102</td>\n",
       "      <td>5500</td>\n",
       "      <td>24</td>\n",
       "      <td>30</td>\n",
       "      <td>13950.0</td>\n",
       "    </tr>\n",
       "    <tr>\n",
       "      <th>4</th>\n",
       "      <td>5</td>\n",
       "      <td>2</td>\n",
       "      <td>audi 100ls</td>\n",
       "      <td>gas</td>\n",
       "      <td>std</td>\n",
       "      <td>four</td>\n",
       "      <td>sedan</td>\n",
       "      <td>4wd</td>\n",
       "      <td>front</td>\n",
       "      <td>99.4</td>\n",
       "      <td>...</td>\n",
       "      <td>136</td>\n",
       "      <td>mpfi</td>\n",
       "      <td>3.19</td>\n",
       "      <td>3.40</td>\n",
       "      <td>8.0</td>\n",
       "      <td>115</td>\n",
       "      <td>5500</td>\n",
       "      <td>18</td>\n",
       "      <td>22</td>\n",
       "      <td>17450.0</td>\n",
       "    </tr>\n",
       "  </tbody>\n",
       "</table>\n",
       "<p>5 rows × 26 columns</p>\n",
       "</div>"
      ],
      "text/plain": [
       "   car_ID  symboling                   CarName fueltype aspiration doornumber  \\\n",
       "0       1          3        alfa-romero giulia      gas        std        two   \n",
       "1       2          3       alfa-romero stelvio      gas        std        two   \n",
       "2       3          1  alfa-romero Quadrifoglio      gas        std        two   \n",
       "3       4          2               audi 100 ls      gas        std       four   \n",
       "4       5          2                audi 100ls      gas        std       four   \n",
       "\n",
       "       carbody drivewheel enginelocation  wheelbase  ...  enginesize  \\\n",
       "0  convertible        rwd          front       88.6  ...         130   \n",
       "1  convertible        rwd          front       88.6  ...         130   \n",
       "2    hatchback        rwd          front       94.5  ...         152   \n",
       "3        sedan        fwd          front       99.8  ...         109   \n",
       "4        sedan        4wd          front       99.4  ...         136   \n",
       "\n",
       "   fuelsystem  boreratio  stroke compressionratio horsepower  peakrpm citympg  \\\n",
       "0        mpfi       3.47    2.68              9.0        111     5000      21   \n",
       "1        mpfi       3.47    2.68              9.0        111     5000      21   \n",
       "2        mpfi       2.68    3.47              9.0        154     5000      19   \n",
       "3        mpfi       3.19    3.40             10.0        102     5500      24   \n",
       "4        mpfi       3.19    3.40              8.0        115     5500      18   \n",
       "\n",
       "   highwaympg    price  \n",
       "0          27  13495.0  \n",
       "1          27  16500.0  \n",
       "2          26  16500.0  \n",
       "3          30  13950.0  \n",
       "4          22  17450.0  \n",
       "\n",
       "[5 rows x 26 columns]"
      ]
     },
     "execution_count": 11,
     "metadata": {},
     "output_type": "execute_result"
    }
   ],
   "source": [
    "import boto3 \n",
    "import pandas as pd \n",
    "import numpy as np\n",
    "from sklearn.model_selection import train_test_split\n",
    "from sklearn.linear_model import LinearRegression\n",
    "from sklearn.metrics import confusion_matrix, accuracy_score\n",
    "\n",
    "# Defining the s3 bucket \n",
    "s3 = boto3.resource('s3')\n",
    "bucket_name = 'christran-data445-bucket'\n",
    "bucket = s3.Bucket(bucket_name)\n",
    "\n",
    "# Defining the file in the bucket \n",
    "file_key = 'CarPrice_Assignment.csv'\n",
    "\n",
    "bucket_object = bucket.Object(file_key)\n",
    "file_object = bucket_object.get()\n",
    "file_content_stream = file_object.get('Body')\n",
    "\n",
    "# Read CSV file\n",
    "car_price = pd.read_csv(file_content_stream)\n",
    "car_price.head()"
   ]
  },
  {
   "cell_type": "code",
   "execution_count": 5,
   "id": "78a4534b",
   "metadata": {},
   "outputs": [],
   "source": [
    "##defining X and y variables \n",
    "X = car_price.drop(columns = ['price'], axis = 1)\n",
    "Y = car_price['price']\n",
    "\n",
    "#splitting data set at random \n",
    "X_train, X_test, Y_train, Y_test = train_test_split(X,Y, test_size = 0.2)"
   ]
  },
  {
   "cell_type": "code",
   "execution_count": 9,
   "id": "f5aa6f3f",
   "metadata": {},
   "outputs": [
    {
     "data": {
      "text/plain": [
       "array([16775.22669055, 15258.98289612, 21705.76810684, 18479.15242988,\n",
       "       17967.63313764, 21178.74297346, 12833.06276293,  5447.37961642,\n",
       "        6156.8213427 , 10504.62997188,  6474.10060642, 17224.92046773,\n",
       "       20079.60335664, 11457.08095954, 10519.43142699, 30091.81874393,\n",
       "       11727.50908312,  6474.10060642,  7919.6198408 , 23498.15793106,\n",
       "       24881.81829631,  7070.60903421, 17548.54660487,  2216.09791514,\n",
       "       13628.87329421,  8970.12439997, 19047.39438187, 23623.92594055,\n",
       "       10901.86666577,  6474.10060642,  9881.48752205,  9667.54518496,\n",
       "       13411.27218644, 15475.63999306, 12473.66220224, 13628.87329421,\n",
       "        6774.16034143, 10519.43142699,  6474.10060642, 10504.62997188,\n",
       "       17006.66205832])"
      ]
     },
     "execution_count": 9,
     "metadata": {},
     "output_type": "execute_result"
    }
   ],
   "source": [
    "#model 1 \n",
    "X_train_1 = X_train[['wheelbase', 'horsepower', 'peakrpm','citympg','highwaympg']]\n",
    "X_test_1 = X_test[['wheelbase', 'horsepower', 'peakrpm','citympg','highwaympg']]\n",
    "\n",
    "\n",
    "#building the linear model \n",
    "lm_md1 = LinearRegression().fit(X_train_1, Y_train)\n",
    "\n",
    "#predicting on test\n",
    "lm_md1_pred = lm_md1.predict(X_test_1)\n",
    "lm_md1_pred"
   ]
  },
  {
   "cell_type": "code",
   "execution_count": 12,
   "id": "5210e7b2",
   "metadata": {},
   "outputs": [
    {
     "name": "stdout",
     "output_type": "stream",
     "text": [
      "The MSE of model 1 is:  11114188.518844029\n"
     ]
    }
   ],
   "source": [
    "#comparing the model MSE\n",
    "mse1 = np.mean((Y_test - lm_md1_pred)**2)\n",
    "print('The MSE of model 1 is: ', mse1)"
   ]
  },
  {
   "cell_type": "code",
   "execution_count": 17,
   "id": "3d70065a",
   "metadata": {},
   "outputs": [
    {
     "name": "stderr",
     "output_type": "stream",
     "text": [
      "/home/ec2-user/anaconda3/envs/python3/lib/python3.8/site-packages/sklearn/base.py:488: FutureWarning: The feature names should match those that were passed during fit. Starting version 1.2, an error will be raised.\n",
      "Feature names unseen at fit time:\n",
      "- peakrpm\n",
      "- wheelbase\n",
      "Feature names seen at fit time, yet now missing:\n",
      "- carheight\n",
      "- carwidth\n",
      "\n",
      "  warnings.warn(message, FutureWarning)\n"
     ]
    },
    {
     "data": {
      "text/plain": [
       "array([618698.70159469, 696089.08011037, 758988.78364362, 630579.7996993 ,\n",
       "       789740.63892243, 807352.85061236, 788509.07183826, 773661.16315994,\n",
       "       682042.4166419 , 690319.08438722, 735274.22560322, 626948.19426266,\n",
       "       628475.27172325, 654251.79793857, 780235.02590199, 721159.40298083,\n",
       "       784905.27464184, 735274.22560322, 683105.87734261, 764515.19822006,\n",
       "       756212.37509445, 707920.58580706, 739746.60120301, 710942.9681442 ,\n",
       "       755245.43828864, 821085.20613296, 710285.20072055, 766070.14647962,\n",
       "       743166.79451431, 735274.22560322, 848214.57872044, 714016.5029197 ,\n",
       "       786206.89013436, 731607.9258287 , 723718.78733273, 755245.43828864,\n",
       "       642399.49757096, 780235.02590199, 735274.22560322, 690319.08438722,\n",
       "       784323.36542885])"
      ]
     },
     "execution_count": 17,
     "metadata": {},
     "output_type": "execute_result"
    }
   ],
   "source": [
    "##Model 2 \n",
    "X_train_2 = X_train[['carwidth', 'carheight', 'horsepower','citympg','highwaympg']]\n",
    "X_test_2 = X_test[['carwidth', 'carheight', 'horsepower','citympg','highwaympg']]\n",
    "\n",
    "\n",
    "#building the linear model \n",
    "lm_md2 = LinearRegression().fit(X_train_2, Y_train)\n",
    "\n",
    "#predicting on test\n",
    "lm_md2_pred = lm_md2.predict(X_test_1)\n",
    "lm_md2_pred"
   ]
  },
  {
   "cell_type": "code",
   "execution_count": 18,
   "id": "eadb5e6f",
   "metadata": {},
   "outputs": [
    {
     "name": "stdout",
     "output_type": "stream",
     "text": [
      "The MSE of model 1 is:  519225971674.73865\n"
     ]
    }
   ],
   "source": [
    "mse2 = np.mean((Y_test - lm_md2_pred)**2)\n",
    "print('The MSE of model 1 is: ', mse2)"
   ]
  },
  {
   "cell_type": "code",
   "execution_count": 19,
   "id": "335f6759",
   "metadata": {},
   "outputs": [
    {
     "data": {
      "text/plain": [
       "False"
      ]
     },
     "execution_count": 19,
     "metadata": {},
     "output_type": "execute_result"
    }
   ],
   "source": [
    "mse1>mse2"
   ]
  },
  {
   "cell_type": "code",
   "execution_count": null,
   "id": "262e2ca6",
   "metadata": {},
   "outputs": [],
   "source": [
    "#we should choose Model 1 because mse 1 is lower than mse 2 "
   ]
  }
 ],
 "metadata": {
  "kernelspec": {
   "display_name": "conda_python3",
   "language": "python",
   "name": "conda_python3"
  },
  "language_info": {
   "codemirror_mode": {
    "name": "ipython",
    "version": 3
   },
   "file_extension": ".py",
   "mimetype": "text/x-python",
   "name": "python",
   "nbconvert_exporter": "python",
   "pygments_lexer": "ipython3",
   "version": "3.8.12"
  }
 },
 "nbformat": 4,
 "nbformat_minor": 5
}
